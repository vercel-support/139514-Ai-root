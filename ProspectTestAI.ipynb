{
 "cells": [
  {
   "cell_type": "code",
   "execution_count": 12,
   "metadata": {
    "collapsed": true
   },
   "outputs": [],
   "source": [
    "from langchain.document_loaders import DirectoryLoader, TextLoader\n",
    "from langchain.text_splitter import CharacterTextSplitter\n",
    "from langchain.embeddings import OpenAIEmbeddings\n",
    "from langchain.vectorstores import Chroma\n",
    "from langchain.chains import RetrievalQA\n",
    "from langchain import OpenAI\n",
    "import os\n",
    "import pyttsx3\n",
    "from playsound import playsound\n",
    "from gtts import gTTS"
   ]
  },
  {
   "cell_type": "code",
   "execution_count": 13,
   "outputs": [],
   "source": [
    "os.environ[\"OPENAI_API_KEY\"] = "
   ],
   "metadata": {
    "collapsed": false,
    "pycharm": {
     "name": "#%%\n"
    }
   }
  },
  {
   "cell_type": "code",
   "execution_count": 14,
   "outputs": [],
   "source": [
    "text_speech = pyttsx3.init()"
   ],
   "metadata": {
    "collapsed": false,
    "pycharm": {
     "name": "#%%\n"
    }
   }
  },
  {
   "cell_type": "code",
   "execution_count": 15,
   "outputs": [],
   "source": [
    "from dotenv import load_dotenv"
   ],
   "metadata": {
    "collapsed": false,
    "pycharm": {
     "name": "#%%\n"
    }
   }
  },
  {
   "cell_type": "code",
   "execution_count": 16,
   "outputs": [],
   "source": [
    "load_dotenv()\n",
    "embeddings = OpenAIEmbeddings(openai_api_key= )"
   ],
   "metadata": {
    "collapsed": false,
    "pycharm": {
     "name": "#%%\n"
    }
   }
  },
  {
   "cell_type": "code",
   "execution_count": 17,
   "outputs": [],
   "source": [
    "# loader = TextLoader('news/summary.txt')\n",
    "loader = DirectoryLoader('ScrapData', glob=\"**/*.txt\")"
   ],
   "metadata": {
    "collapsed": false,
    "pycharm": {
     "name": "#%%\n"
    }
   }
  },
  {
   "cell_type": "code",
   "execution_count": 18,
   "outputs": [
    {
     "name": "stdout",
     "output_type": "stream",
     "text": [
      "6\n"
     ]
    }
   ],
   "source": [
    "documents = loader.load()\n",
    "print(len(documents))"
   ],
   "metadata": {
    "collapsed": false,
    "pycharm": {
     "name": "#%%\n"
    }
   }
  },
  {
   "cell_type": "code",
   "execution_count": 19,
   "outputs": [],
   "source": [
    "text_splitter = CharacterTextSplitter(chunk_size=2500, chunk_overlap=0)\n",
    "texts = text_splitter.split_documents(documents)"
   ],
   "metadata": {
    "collapsed": false,
    "pycharm": {
     "name": "#%%\n"
    }
   }
  },
  {
   "cell_type": "code",
   "execution_count": 20,
   "outputs": [
    {
     "name": "stderr",
     "output_type": "stream",
     "text": [
      "Using embedded DuckDB without persistence: data will be transient\n"
     ]
    }
   ],
   "source": [
    "docsearch = Chroma.from_documents(texts, embeddings)\n",
    "qa = RetrievalQA.from_chain_type(\n",
    "    llm=OpenAI(),\n",
    "    chain_type=\"stuff\",\n",
    "    retriever=docsearch.as_retriever()\n",
    ")"
   ],
   "metadata": {
    "collapsed": false,
    "pycharm": {
     "name": "#%%\n"
    }
   }
  },
  {
   "cell_type": "code",
   "execution_count": 21,
   "outputs": [],
   "source": [
    "def query(q):\n",
    "    print(\"Query: \", q)\n",
    "    answer = qa.run(q)\n",
    "    print(\"Answer: \", answer)\n",
    "\n",
    "def soundQuery(q):\n",
    "    print(\"Query: \", q)\n",
    "    answer = qa.run(q)\n",
    "    tts = gTTS(answer)\n",
    "    tts.save('answer.mp3')\n",
    "    print(\"Answer: \", answer)\n",
    "    playsound('answer.mp3')"
   ],
   "metadata": {
    "collapsed": false,
    "pycharm": {
     "name": "#%%\n"
    }
   }
  },
  {
   "cell_type": "code",
   "execution_count": 22,
   "outputs": [
    {
     "name": "stdout",
     "output_type": "stream",
     "text": [
      "Query:  Tell me about Prospective LLC.\n",
      "Answer:   Prospective LLC is a trailblazing Web3 ecosystem that empowers those who create, work, and play. It provides access to a personalized digital future on the Tron Blockchain and allows users to create, play, own, and sell experiences. It is revolutionizing the way communities work, develop, and thrive. PROS token serves as the lifeblood of the Prospective ecosystem, powering all DApps and transactions. The token is available for trade through various pairings and exchanges, including Sunswap.com and pancakeswap.finance. It can also be traded via Uniswap.org and can be found at the ERC20 token address 0xbe1936A67f503e0eaF2434b0cf9f4e3d7100008A. In addition, it is also available as a BEP20 token, with a token address of Tron-TRC20: TFf1aBoNFqxN32V2NQdvNrXVyYCy9qY8p1. Prospective LLC also has a validator on Tron, Klever, and BSC chains, allowing users to vote for them to become a part of the elite group of Super\n"
     ]
    }
   ],
   "source": [
    "query(\"Tell me about Prospective LLC.\")"
   ],
   "metadata": {
    "collapsed": false,
    "pycharm": {
     "name": "#%%\n"
    }
   }
  },
  {
   "cell_type": "code",
   "execution_count": null,
   "outputs": [],
   "source": [],
   "metadata": {
    "collapsed": false,
    "pycharm": {
     "name": "#%%\n"
    }
   }
  },
  {
   "cell_type": "code",
   "execution_count": 23,
   "outputs": [
    {
     "name": "stdout",
     "output_type": "stream",
     "text": [
      "Query:  Tell me about Just Money.\n",
      "Answer:   JustMoney is a decentralized cross-chain DeFi and Web3 ecosystem. It provides all the tools for cryptocurrency exchanging, for merchants to accept cryptocurrency and for crypto projects to grow their business. It consists of a DEX, bridge, cross-chain swap, a decentralized payment gateway with four sub-products, a cryptocurrency gifting platform, a launchpad, and many other tools. It is currently integrated into five chains: Ethereum, Tron, BSC, Polygon, and BTTC. The main goal is to increase crypto awareness and adoption and make cryptocurrency mainstream. The token is a deflationary token called $JM which is used by all products in the JustMoney ecosystem. The roadmap includes the launch of the JustMoney Swap Interface, JustMoney Bridge, Cross-Chain Swap and Widget, JustMoney Pay, Fiat On/Off Ramp, One-Click Buy Button, and JM Marketplace Proof of Concept.\n"
     ]
    }
   ],
   "source": [
    "soundQuery(\"Tell me about Just Money.\")"
   ],
   "metadata": {
    "collapsed": false,
    "pycharm": {
     "name": "#%%\n"
    }
   }
  },
  {
   "cell_type": "code",
   "execution_count": 28,
   "outputs": [
    {
     "name": "stdout",
     "output_type": "stream",
     "text": [
      "Query:  How do I bridge PROS token from ethereum to TRON using Just Money?\n",
      "Answer:   You can use JustMoney Bridge to bridge PROS token from Ethereum to TRON. JustMoney Bridge allows users to move $JM tokens quickly and cheaply from one blockchain to another. You will need a Tron-supported wallet, such as TronLink or Klever, to swap ETH or USDT to PROS on the Ethereum network, then bridge it to the TRON network. The bridge takes 30-90 seconds and has a very small fee.\n"
     ]
    }
   ],
   "source": [
    "soundQuery(\"How do I bridge PROS token from ethereum to TRON using Just Money?\")"
   ],
   "metadata": {
    "collapsed": false,
    "pycharm": {
     "name": "#%%\n"
    }
   }
  },
  {
   "cell_type": "code",
   "execution_count": null,
   "outputs": [],
   "source": [],
   "metadata": {
    "collapsed": false,
    "pycharm": {
     "name": "#%%\n"
    }
   }
  }
 ],
 "metadata": {
  "kernelspec": {
   "name": "gpu",
   "language": "python",
   "display_name": "GPU"
  },
  "language_info": {
   "codemirror_mode": {
    "name": "ipython",
    "version": 2
   },
   "file_extension": ".py",
   "mimetype": "text/x-python",
   "name": "python",
   "nbconvert_exporter": "python",
   "pygments_lexer": "ipython2",
   "version": "2.7.6"
  }
 },
 "nbformat": 4,
 "nbformat_minor": 0
}